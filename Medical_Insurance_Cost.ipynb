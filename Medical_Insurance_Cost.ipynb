{
 "cells": [
  {
   "cell_type": "markdown",
   "id": "c1d321a7-a529-4d2d-a7c0-e5a82698cb67",
   "metadata": {},
   "source": [
    "# Medical Insurance Cost Analysis\n",
    "\n",
    "This project focuses on manipulating patient medical record data using Python dictionaries. It demonstrates fundamental Python operations such as creating, updating, and iterating through dictionaries to store and retrieve patient information and calculate basic statistics like average insurance costs. This serves as a foundational exercise in data organization and simple data analysis using core Python structures."
   ]
  },
  {
   "cell_type": "markdown",
   "id": "5f175695-78c5-4663-aaee-621e2e14f749",
   "metadata": {},
   "source": [
    "## Table of Contents\n",
    "\n",
    "* [1. Initializing Medical Costs](#1.-Initializing-Medical-Costs)\n",
    "* [2. Calculating Average Insurance Cost](#2.-Calculating-Average-Insurance-Cost)\n",
    "* [3. Combining Names and Ages](#3.-Combining-Names-and-Ages)\n",
    "* [4. Building Comprehensive Medical Records](#4.-Building-Comprehensive-Medical-Records)\n",
    "* [5. Retrieving and Displaying Patient Data](#5.-Retrieving-and-Displaying-Patient-Data)\n",
    "* [6. Conclusion](#6.-Conclusion)"
   ]
  },
  {
   "cell_type": "markdown",
   "id": "52818332-64a3-44a4-ad57-3ab9d4455382",
   "metadata": {},
   "source": [
    "## 1. Initializing Medical Costs\n",
    "\n",
    "This section sets up the initial dictionaries to store patient names and their corresponding medical insurance costs. We'll demonstrate how to add new entries, update existing ones, and view the dictionary's contents."
   ]
  },
  {
   "cell_type": "code",
   "execution_count": 4,
   "id": "0eb277c6-0add-4776-9f42-58a0fd260c52",
   "metadata": {},
   "outputs": [],
   "source": [
    "#Dictionary to keep record of medical patients and their insurance costs.\n",
    "\n",
    "medical_costs = {}"
   ]
  },
  {
   "cell_type": "markdown",
   "id": "202624be-f301-41c6-b1c1-2741b23ec111",
   "metadata": {},
   "source": [
    "### Adding Initial Patients\n",
    "\n",
    "We begin by creating an empty dictionary `medical_costs` and then add the first two patients, Marina and Vinay, along with their insurance costs."
   ]
  },
  {
   "cell_type": "code",
   "execution_count": 6,
   "id": "51464217-46f8-4aa7-a2b9-83d78683343b",
   "metadata": {},
   "outputs": [
    {
     "name": "stdout",
     "output_type": "stream",
     "text": [
      "{'Marina': 6607.0, 'Vinay': 3225.0}\n"
     ]
    }
   ],
   "source": [
    "#Populate our medical_costs dictionary\n",
    "\n",
    "medical_costs[\"Marina\"] = 6607.0\n",
    "medical_costs[\"Vinay\"] = 3225.0\n",
    "\n",
    "print(medical_costs)"
   ]
  },
  {
   "cell_type": "markdown",
   "id": "cf3e91c5-41a8-40c4-aa8a-de5f1e772c93",
   "metadata": {},
   "source": [
    "### Batch Adding Patients\n",
    "\n",
    "To efficiently add multiple new patients, we use the `update()` method to add Connie, Isaac, and Valentina to our `medical_costs` dictionary."
   ]
  },
  {
   "cell_type": "code",
   "execution_count": 8,
   "id": "840c779c-db40-4722-bdd0-0511c5337c1f",
   "metadata": {},
   "outputs": [],
   "source": [
    "##Populate our medical_costs dictionary using one line \n",
    "\n",
    "medical_costs.update({\"Connie\": 8886.0, \"Isaac\": 16444.0, \"Valentina\": 6420.0})"
   ]
  },
  {
   "cell_type": "code",
   "execution_count": 9,
   "id": "9b5f6250-e2a5-4729-ba0e-b4b5091ece04",
   "metadata": {},
   "outputs": [
    {
     "name": "stdout",
     "output_type": "stream",
     "text": [
      "{'Marina': 6607.0, 'Vinay': 3225.0, 'Connie': 8886.0, 'Isaac': 16444.0, 'Valentina': 6420.0}\n"
     ]
    }
   ],
   "source": [
    "print(medical_costs) "
   ]
  },
  {
   "cell_type": "markdown",
   "id": "246f3baf-d284-43d2-9b71-b9c366b6dca0",
   "metadata": {},
   "source": [
    "### Correcting a Patient's Record\n",
    "\n",
    "It was discovered that Vinay's insurance cost was initially entered incorrectly. Here, we demonstrate how to update an existing patient's record by directly reassigning the value associated with their key."
   ]
  },
  {
   "cell_type": "code",
   "execution_count": 11,
   "id": "7d540824-c410-496d-a96d-33630ea24f35",
   "metadata": {},
   "outputs": [
    {
     "name": "stdout",
     "output_type": "stream",
     "text": [
      "{'Marina': 6607.0, 'Vinay': 3325.0, 'Connie': 8886.0, 'Isaac': 16444.0, 'Valentina': 6420.0}\n"
     ]
    }
   ],
   "source": [
    "#Updating Vinay's insurance cost, was incorrectly inputted\n",
    "\n",
    "medical_costs[\"Vinay\"] = 3325.0 \n",
    "\n",
    "print(medical_costs)"
   ]
  },
  {
   "cell_type": "markdown",
   "id": "e6f31828-05fa-4574-9cc7-424c7773ab55",
   "metadata": {},
   "source": [
    "## 2. Calculating Average Insurance Cost\n",
    "\n",
    "In this section, we calculate the total medical insurance cost for all patients and then determine the average cost across all recorded patients."
   ]
  },
  {
   "cell_type": "markdown",
   "id": "10e9fa43-7d5d-4c69-9fe6-7c72c556dbd3",
   "metadata": {},
   "source": [
    "### Summing Total Costs\n",
    "\n",
    "We iterate through the `medical_costs` dictionary's values to sum up all individual insurance costs, resulting in the `total_cost`."
   ]
  },
  {
   "cell_type": "code",
   "execution_count": 14,
   "id": "21ad3c83-44f6-4019-969b-8dc7504ed8d5",
   "metadata": {},
   "outputs": [],
   "source": [
    "#Counter for insurance costs\n",
    "\n",
    "total_cost = 0\n",
    "for cost in medical_costs.values():\n",
    "    total_cost += cost"
   ]
  },
  {
   "cell_type": "markdown",
   "id": "74c3af10-1664-4345-b72d-9f24ad168ed8",
   "metadata": {},
   "source": [
    "### Determining Average Cost\n",
    "\n",
    "The `average_cost` is calculated by dividing the `total_cost` by the total number of patients, obtained using `len(medical_costs)`."
   ]
  },
  {
   "cell_type": "code",
   "execution_count": 16,
   "id": "8acbcce6-3bb3-47bc-b7b0-26e5d8fb7f7f",
   "metadata": {},
   "outputs": [
    {
     "name": "stdout",
     "output_type": "stream",
     "text": [
      "8336.4\n"
     ]
    }
   ],
   "source": [
    "#Counters value to calculate average cost\n",
    "\n",
    "average_cost = (total_cost/len(medical_costs)) \n",
    "print(average_cost)"
   ]
  },
  {
   "cell_type": "markdown",
   "id": "d4f311fc-1232-4ddf-a9d3-1a2eebcb4c29",
   "metadata": {},
   "source": [
    "## 3. Combining Names and Ages\n",
    "\n",
    "To prepare for more comprehensive patient records, we create separate lists for patient names and their ages. This section demonstrates how to combine these lists into a structured format (a list of tuples) and then convert it into a dictionary for easy lookups."
   ]
  },
  {
   "cell_type": "code",
   "execution_count": 18,
   "id": "541a6ec9-a5b1-4c72-aa2a-475efe030341",
   "metadata": {},
   "outputs": [],
   "source": [
    "#New Variable \"ages\"\n",
    "\n",
    "names = [\"Marina\", \"Vinay\", \"Connie\",\t\n",
    "\"Isaac\", \"Valentina\"]\n",
    "ages = [27, 24, 43, 35, 52]"
   ]
  },
  {
   "cell_type": "markdown",
   "id": "e8da7ae1-b2b3-4b33-aecd-865db00e1ded",
   "metadata": {},
   "source": [
    "### Zipping Names and Ages\n",
    "\n",
    "The `zip()` function is used to pair corresponding elements from the `names` and `ages` lists, creating a list of (name, age) tuples."
   ]
  },
  {
   "cell_type": "code",
   "execution_count": 20,
   "id": "6e64909b-f4bd-4bcd-8267-a33f98697779",
   "metadata": {},
   "outputs": [
    {
     "name": "stdout",
     "output_type": "stream",
     "text": [
      "[('Marina', 27), ('Vinay', 24), ('Connie', 43), ('Isaac', 35), ('Valentina', 52)]\n"
     ]
    }
   ],
   "source": [
    "#Combining \"names\" and \"ages\" lists\n",
    "\n",
    "zipped_ages = list(zip(names, ages))\n",
    "print(zipped_ages)"
   ]
  },
  {
   "cell_type": "markdown",
   "id": "be5967d2-c0e7-48ea-95bc-98cb0ce03298",
   "metadata": {},
   "source": [
    "### Converting to a Dictionary\n",
    "\n",
    "The zipped list of tuples is then directly converted into a dictionary, where names become keys and ages become values, enabling quick age lookups by name."
   ]
  },
  {
   "cell_type": "code",
   "execution_count": 22,
   "id": "dff16016-2b62-4288-b414-2446e8b8860d",
   "metadata": {},
   "outputs": [
    {
     "name": "stdout",
     "output_type": "stream",
     "text": [
      "{'Marina': 27, 'Vinay': 24, 'Connie': 43, 'Isaac': 35, 'Valentina': 52}\n"
     ]
    }
   ],
   "source": [
    "#Zipped list to dictionary\n",
    "\n",
    "to_dict = dict(zipped_ages)\n",
    "print(to_dict)"
   ]
  },
  {
   "cell_type": "code",
   "execution_count": 23,
   "id": "e5f9f6d8-5e1b-4b31-9a5f-21147d7caeae",
   "metadata": {},
   "outputs": [
    {
     "name": "stdout",
     "output_type": "stream",
     "text": [
      "{'Marina': 27, 'Vinay': 24, 'Connie': 43, 'Isaac': 35, 'Valentina': 52}\n"
     ]
    }
   ],
   "source": [
    "#Zipped list to dictionary through itteration\n",
    "\n",
    "names_to_ages = {}\n",
    "for zip in zipped_ages:\n",
    "    names_to_ages[zip[0]] = zip[1]\n",
    "print(names_to_ages)"
   ]
  },
  {
   "cell_type": "markdown",
   "id": "69630187-a499-4dab-af9b-ba9c2396dd03",
   "metadata": {},
   "source": [
    "### Retrieving Individual Age\n",
    "\n",
    "We use the `get()` method to safely retrieve Marina's age from the `names_to_ages` dictionary. This method allows for a default value (`None` in this case) if the key is not found, preventing errors."
   ]
  },
  {
   "cell_type": "code",
   "execution_count": 25,
   "id": "9408863a-de29-4dca-be5d-9039555962e6",
   "metadata": {},
   "outputs": [
    {
     "name": "stdout",
     "output_type": "stream",
     "text": [
      "Marina's age is 27\n"
     ]
    }
   ],
   "source": [
    "#Getting value for Marina's age and storing it in a variable\n",
    "\n",
    "marinas_age = names_to_ages.get(\"Marina\", None)\n",
    "\n",
    "print(\"Marina's age is\", marinas_age)"
   ]
  },
  {
   "cell_type": "markdown",
   "id": "6d1bd8fd-f6cf-4170-aeeb-92a972c4a110",
   "metadata": {},
   "source": [
    "## 4. Building Comprehensive Medical Records\n",
    "\n",
    "This section involves creating a nested dictionary structure to store detailed medical records for each patient, including age, sex, BMI, number of children, smoker status, and insurance cost."
   ]
  },
  {
   "cell_type": "markdown",
   "id": "1df1494b-efde-4ffc-84c6-953e4800ce3a",
   "metadata": {},
   "source": [
    "### Populating Patient Records\n",
    "\n",
    "Each patient's comprehensive data is added to the `medical_records` dictionary, with the patient's name as the primary key and a sub-dictionary containing their detailed attributes."
   ]
  },
  {
   "cell_type": "code",
   "execution_count": 28,
   "id": "adf5f4bc-f74b-426f-b44d-6c5ce82a8d6c",
   "metadata": {},
   "outputs": [],
   "source": [
    "#New dictionary to hold all medical records\n",
    "\n",
    "medical_records = {}"
   ]
  },
  {
   "cell_type": "code",
   "execution_count": 29,
   "id": "a8660ccd-cf1f-4a6b-8d10-4d21be2a08d9",
   "metadata": {},
   "outputs": [],
   "source": [
    "#Adding all medical record info\n",
    "\n",
    "medical_records[\"Marina\"] = {\"Age\": 27, \"Sex\": \"Female\", \"BMI\": 31.1, \"Children\": 2, \"Smoker\": \"Non-smoker\", \"Insurance_cost\": 6607.0}\n",
    "medical_records[\"Vinay\"] = {\"Age\": 24, \"Sex\": \"Male\", \"BMI\": 26.9, \"Children\": 0, \"Smoker\": \"Non-smoker\", \"Insurance_cost\": 3225.0}\n",
    "medical_records[\"Connie\"] = {\"Age\": 43, \"Sex\": \"Female\", \"BMI\": 25.3, \"Children\": 3, \"Smoker\": \"Non-smoker\", \"Insurance_cost\": 8886.0}\n",
    "medical_records[\"Isaac\"] = {\"Age\": 35, \"Sex\": \"Male\", \"BMI\": 20.6, \"Children\": 4, \"Smoker\": \"Smoker\", \"Insurance_cost\": 16444.0}\n",
    "medical_records[\"Valentina\"] = {\"Age\": 52, \"Sex\": \"Female\", \"BMI\": 18.7, \"Children\": 1, \"Smoker\": \"Non-smoker\", \"Insurance_cost\": 6420.0}"
   ]
  },
  {
   "cell_type": "code",
   "execution_count": 30,
   "id": "56844571-e0fd-417a-9c9e-746b9cabd477",
   "metadata": {},
   "outputs": [
    {
     "name": "stdout",
     "output_type": "stream",
     "text": [
      "{'Marina': {'Age': 27, 'Sex': 'Female', 'BMI': 31.1, 'Children': 2, 'Smoker': 'Non-smoker', 'Insurance_cost': 6607.0}, 'Vinay': {'Age': 24, 'Sex': 'Male', 'BMI': 26.9, 'Children': 0, 'Smoker': 'Non-smoker', 'Insurance_cost': 3225.0}, 'Connie': {'Age': 43, 'Sex': 'Female', 'BMI': 25.3, 'Children': 3, 'Smoker': 'Non-smoker', 'Insurance_cost': 8886.0}, 'Isaac': {'Age': 35, 'Sex': 'Male', 'BMI': 20.6, 'Children': 4, 'Smoker': 'Smoker', 'Insurance_cost': 16444.0}, 'Valentina': {'Age': 52, 'Sex': 'Female', 'BMI': 18.7, 'Children': 1, 'Smoker': 'Non-smoker', 'Insurance_cost': 6420.0}}\n"
     ]
    }
   ],
   "source": [
    "print(medical_records)"
   ]
  },
  {
   "cell_type": "code",
   "execution_count": 31,
   "id": "c24011b8-522a-4895-a483-a38c8bf0f135",
   "metadata": {},
   "outputs": [
    {
     "name": "stdout",
     "output_type": "stream",
     "text": [
      "Connie's insurance cost is 8886.0 dollars.\n"
     ]
    }
   ],
   "source": [
    "#Getting value for Connie's medical insurance cost\n",
    "\n",
    "connie_insurance_cost = medical_records[\"Connie\"][\"Insurance_cost\"]\n",
    "print(\"Connie's insurance cost is\",connie_insurance_cost,  \"dollars.\")"
   ]
  },
  {
   "cell_type": "markdown",
   "id": "998396a0-b1e5-4bea-836a-6c52b9ec661b",
   "metadata": {},
   "source": [
    "### Updating and Removing Records\n",
    "\n",
    "This demonstrates how to remove a patient's entire record from the `medical_records` dictionary using the `pop()` method, simulating a patient moving away."
   ]
  },
  {
   "cell_type": "code",
   "execution_count": 33,
   "id": "c7d94cbd-4235-4bba-a58e-65f94539a131",
   "metadata": {},
   "outputs": [
    {
     "data": {
      "text/plain": [
       "{'Age': 24,\n",
       " 'Sex': 'Male',\n",
       " 'BMI': 26.9,\n",
       " 'Children': 0,\n",
       " 'Smoker': 'Non-smoker',\n",
       " 'Insurance_cost': 3225.0}"
      ]
     },
     "execution_count": 33,
     "metadata": {},
     "output_type": "execute_result"
    }
   ],
   "source": [
    "#Removing Vinny from medical records (Vinnay moved away)\n",
    "\n",
    "medical_records.pop(\"Vinay\")"
   ]
  },
  {
   "cell_type": "markdown",
   "id": "60bbcf18-a5a8-4fa3-8916-e178c9568e41",
   "metadata": {},
   "source": [
    "## 5. Retrieving and Displaying Patient Data\n",
    "\n",
    "To easily view all patient information, a `for` loop iterates through the `medical_records` dictionary. It retrieves and prints each patient's key attributes in a user-friendly string format."
   ]
  },
  {
   "cell_type": "code",
   "execution_count": 35,
   "id": "a61b18db-58e1-4ac6-9c98-312e03592d99",
   "metadata": {},
   "outputs": [
    {
     "name": "stdout",
     "output_type": "stream",
     "text": [
      "Marina is a 27 year old Female Non-smoker with a BMI of 31.1 and insurance cost of 6607.0\n",
      "Connie is a 43 year old Female Non-smoker with a BMI of 25.3 and insurance cost of 8886.0\n",
      "Isaac is a 35 year old Male Smoker with a BMI of 20.6 and insurance cost of 16444.0\n",
      "Valentina is a 52 year old Female Non-smoker with a BMI of 18.7 and insurance cost of 6420.0\n"
     ]
    }
   ],
   "source": [
    "#For loop to retrieve and print all patients' medical records in a string format\n",
    "\n",
    "for name, patient_data in medical_records.items():\n",
    "    print(f\"{name} is a {patient_data['Age']} year old {patient_data['Sex']} {patient_data['Smoker']} with a BMI of {patient_data['BMI']} and insurance cost of {patient_data['Insurance_cost']}\")"
   ]
  },
  {
   "cell_type": "markdown",
   "id": "a13150d1-d31e-48ec-be48-cf9ec17eabdc",
   "metadata": {},
   "source": [
    "### Function to Update Medical Records\n",
    "\n",
    "A reusable function `update_medical_records` is defined to streamline the process of adding new patient records or updating existing ones. It takes the patient's name and a list of their medical data as input."
   ]
  },
  {
   "cell_type": "code",
   "execution_count": 37,
   "id": "48ac4567-e902-431b-8039-87b7fafacecc",
   "metadata": {},
   "outputs": [],
   "source": [
    "#Function to update Medical Records. \n",
    "##Inputs : Patience name, list of records\n",
    "\n",
    "def update_medical_records(name, medical_data):\n",
    "    for i in medical_data:\n",
    "        medical_records[name] = {\"Age\": medical_data[0], \"Sex\": medical_data[1], \"BMI\": medical_data[2], \"Children\": medical_data[3], \"Smoker\": medical_data[4], \"Insurance_cost\": medical_data[5]}\n",
    "    return medical_records"
   ]
  },
  {
   "cell_type": "markdown",
   "id": "7a6455be-86e3-430e-a4ab-e0c2d94e2bb9",
   "metadata": {},
   "source": [
    "### Testing the Update Function\n",
    "\n",
    "We test the `update_medical_records` function by adding a new patient, Paul, with his corresponding medical data."
   ]
  },
  {
   "cell_type": "code",
   "execution_count": 39,
   "id": "dbc7223b-b23c-4e90-ba23-530881df7832",
   "metadata": {},
   "outputs": [
    {
     "name": "stdout",
     "output_type": "stream",
     "text": [
      "{'Marina': {'Age': 27, 'Sex': 'Female', 'BMI': 31.1, 'Children': 2, 'Smoker': 'Non-smoker', 'Insurance_cost': 6607.0}, 'Connie': {'Age': 43, 'Sex': 'Female', 'BMI': 25.3, 'Children': 3, 'Smoker': 'Non-smoker', 'Insurance_cost': 8886.0}, 'Isaac': {'Age': 35, 'Sex': 'Male', 'BMI': 20.6, 'Children': 4, 'Smoker': 'Smoker', 'Insurance_cost': 16444.0}, 'Valentina': {'Age': 52, 'Sex': 'Female', 'BMI': 18.7, 'Children': 1, 'Smoker': 'Non-smoker', 'Insurance_cost': 6420.0}, 'Paul': {'Age': 24, 'Sex': 'Male', 'BMI': 26.9, 'Children': 0, 'Smoker': 'Non-smoker', 'Insurance_cost': 3225.0}}\n"
     ]
    }
   ],
   "source": [
    "pauls_data = [24, 'Male', 26.9, 0,'Non-smoker', 3225.0]\n",
    "medical_record_funct_test = update_medical_records(\"Paul\", pauls_data)\n",
    "\n",
    "print(medical_record_funct_test)"
   ]
  },
  {
   "cell_type": "markdown",
   "id": "b5f6af5a-f2cb-4621-a6e3-2bd459183f91",
   "metadata": {},
   "source": [
    "## 6. Conclusion\n",
    "\n",
    "This project successfully demonstrates the use of Python dictionaries for organizing, manipulating, and retrieving structured data. We covered:\n",
    "* Initializing and populating dictionaries with patient and cost data.\n",
    "* Performing calculations such as average cost.\n",
    "* Combining data from multiple lists into a dictionary.\n",
    "* Creating and using a nested dictionary to store comprehensive patient records.\n",
    "* Developing a reusable function to update medical records.\n",
    "\n",
    "This exercise highlights Python's flexibility in handling structured data, a fundamental skill for data analysis. Future enhancements could involve using Pandas DataFrames for more robust data manipulation and analysis, or integrating with a database for persistent storage."
   ]
  }
 ],
 "metadata": {
  "kernelspec": {
   "display_name": "Python 3 (ipykernel)",
   "language": "python",
   "name": "python3"
  },
  "language_info": {
   "codemirror_mode": {
    "name": "ipython",
    "version": 3
   },
   "file_extension": ".py",
   "mimetype": "text/x-python",
   "name": "python",
   "nbconvert_exporter": "python",
   "pygments_lexer": "ipython3",
   "version": "3.12.4"
  }
 },
 "nbformat": 4,
 "nbformat_minor": 5
}
